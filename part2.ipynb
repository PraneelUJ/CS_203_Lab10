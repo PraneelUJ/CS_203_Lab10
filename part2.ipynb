{
 "cells": [
  {
   "cell_type": "code",
   "execution_count": 8,
   "metadata": {},
   "outputs": [],
   "source": [
    "import pandas as pd\n",
    "import scipy.stats"
   ]
  },
  {
   "cell_type": "code",
   "execution_count": 5,
   "metadata": {},
   "outputs": [],
   "source": [
    "train = pd.read_csv('train.csv')\n",
    "test1 = pd.read_csv('test1.csv')\n",
    "test2 = pd.read_csv('test2.csv')"
   ]
  },
  {
   "cell_type": "code",
   "execution_count": 6,
   "metadata": {},
   "outputs": [
    {
     "data": {
      "text/html": [
       "<div>\n",
       "<style scoped>\n",
       "    .dataframe tbody tr th:only-of-type {\n",
       "        vertical-align: middle;\n",
       "    }\n",
       "\n",
       "    .dataframe tbody tr th {\n",
       "        vertical-align: top;\n",
       "    }\n",
       "\n",
       "    .dataframe thead th {\n",
       "        text-align: right;\n",
       "    }\n",
       "</style>\n",
       "<table border=\"1\" class=\"dataframe\">\n",
       "  <thead>\n",
       "    <tr style=\"text-align: right;\">\n",
       "      <th></th>\n",
       "      <th>Unnamed: 0</th>\n",
       "      <th>Date</th>\n",
       "      <th>Time</th>\n",
       "      <th>CO(GT)</th>\n",
       "      <th>PT08.S1(CO)</th>\n",
       "      <th>NMHC(GT)</th>\n",
       "      <th>C6H6(GT)</th>\n",
       "      <th>PT08.S2(NMHC)</th>\n",
       "      <th>NOx(GT)</th>\n",
       "      <th>PT08.S3(NOx)</th>\n",
       "      <th>NO2(GT)</th>\n",
       "      <th>PT08.S4(NO2)</th>\n",
       "      <th>PT08.S5(O3)</th>\n",
       "      <th>T</th>\n",
       "      <th>RH</th>\n",
       "      <th>AH</th>\n",
       "      <th>Unnamed: 15</th>\n",
       "      <th>Unnamed: 16</th>\n",
       "    </tr>\n",
       "  </thead>\n",
       "  <tbody>\n",
       "    <tr>\n",
       "      <th>0</th>\n",
       "      <td>1849</td>\n",
       "      <td>26/05/2004</td>\n",
       "      <td>19.00.00</td>\n",
       "      <td>-200</td>\n",
       "      <td>1130.0</td>\n",
       "      <td>-200.0</td>\n",
       "      <td>22,7</td>\n",
       "      <td>1368.0</td>\n",
       "      <td>-200.0</td>\n",
       "      <td>933.0</td>\n",
       "      <td>-200.0</td>\n",
       "      <td>1709.0</td>\n",
       "      <td>1269.0</td>\n",
       "      <td>26,7</td>\n",
       "      <td>19,5</td>\n",
       "      <td>0,6754</td>\n",
       "      <td>NaN</td>\n",
       "      <td>NaN</td>\n",
       "    </tr>\n",
       "    <tr>\n",
       "      <th>1</th>\n",
       "      <td>2533</td>\n",
       "      <td>24/06/2004</td>\n",
       "      <td>07.00.00</td>\n",
       "      <td>1,2</td>\n",
       "      <td>1030.0</td>\n",
       "      <td>-200.0</td>\n",
       "      <td>6,9</td>\n",
       "      <td>851.0</td>\n",
       "      <td>102.0</td>\n",
       "      <td>824.0</td>\n",
       "      <td>68.0</td>\n",
       "      <td>1700.0</td>\n",
       "      <td>983.0</td>\n",
       "      <td>21,9</td>\n",
       "      <td>57,0</td>\n",
       "      <td>1,4742</td>\n",
       "      <td>NaN</td>\n",
       "      <td>NaN</td>\n",
       "    </tr>\n",
       "    <tr>\n",
       "      <th>2</th>\n",
       "      <td>3047</td>\n",
       "      <td>15/07/2004</td>\n",
       "      <td>17.00.00</td>\n",
       "      <td>3,2</td>\n",
       "      <td>1164.0</td>\n",
       "      <td>-200.0</td>\n",
       "      <td>20,3</td>\n",
       "      <td>1306.0</td>\n",
       "      <td>259.0</td>\n",
       "      <td>648.0</td>\n",
       "      <td>198.0</td>\n",
       "      <td>1886.0</td>\n",
       "      <td>1218.0</td>\n",
       "      <td>35,5</td>\n",
       "      <td>19,1</td>\n",
       "      <td>1,0888</td>\n",
       "      <td>NaN</td>\n",
       "      <td>NaN</td>\n",
       "    </tr>\n",
       "    <tr>\n",
       "      <th>3</th>\n",
       "      <td>805</td>\n",
       "      <td>13/04/2004</td>\n",
       "      <td>07.00.00</td>\n",
       "      <td>3,9</td>\n",
       "      <td>1496.0</td>\n",
       "      <td>524.0</td>\n",
       "      <td>19,1</td>\n",
       "      <td>1272.0</td>\n",
       "      <td>328.0</td>\n",
       "      <td>667.0</td>\n",
       "      <td>130.0</td>\n",
       "      <td>2011.0</td>\n",
       "      <td>1399.0</td>\n",
       "      <td>11,0</td>\n",
       "      <td>64,2</td>\n",
       "      <td>0,8398</td>\n",
       "      <td>NaN</td>\n",
       "      <td>NaN</td>\n",
       "    </tr>\n",
       "    <tr>\n",
       "      <th>4</th>\n",
       "      <td>2962</td>\n",
       "      <td>12/07/2004</td>\n",
       "      <td>04.00.00</td>\n",
       "      <td>-200</td>\n",
       "      <td>780.0</td>\n",
       "      <td>-200.0</td>\n",
       "      <td>1,8</td>\n",
       "      <td>568.0</td>\n",
       "      <td>24.0</td>\n",
       "      <td>1200.0</td>\n",
       "      <td>34.0</td>\n",
       "      <td>1331.0</td>\n",
       "      <td>501.0</td>\n",
       "      <td>19,9</td>\n",
       "      <td>51,3</td>\n",
       "      <td>1,1803</td>\n",
       "      <td>NaN</td>\n",
       "      <td>NaN</td>\n",
       "    </tr>\n",
       "  </tbody>\n",
       "</table>\n",
       "</div>"
      ],
      "text/plain": [
       "   Unnamed: 0        Date      Time CO(GT)  PT08.S1(CO)  NMHC(GT) C6H6(GT)  \\\n",
       "0        1849  26/05/2004  19.00.00   -200       1130.0    -200.0     22,7   \n",
       "1        2533  24/06/2004  07.00.00    1,2       1030.0    -200.0      6,9   \n",
       "2        3047  15/07/2004  17.00.00    3,2       1164.0    -200.0     20,3   \n",
       "3         805  13/04/2004  07.00.00    3,9       1496.0     524.0     19,1   \n",
       "4        2962  12/07/2004  04.00.00   -200        780.0    -200.0      1,8   \n",
       "\n",
       "   PT08.S2(NMHC)  NOx(GT)  PT08.S3(NOx)  NO2(GT)  PT08.S4(NO2)  PT08.S5(O3)  \\\n",
       "0         1368.0   -200.0         933.0   -200.0        1709.0       1269.0   \n",
       "1          851.0    102.0         824.0     68.0        1700.0        983.0   \n",
       "2         1306.0    259.0         648.0    198.0        1886.0       1218.0   \n",
       "3         1272.0    328.0         667.0    130.0        2011.0       1399.0   \n",
       "4          568.0     24.0        1200.0     34.0        1331.0        501.0   \n",
       "\n",
       "      T    RH      AH  Unnamed: 15  Unnamed: 16  \n",
       "0  26,7  19,5  0,6754          NaN          NaN  \n",
       "1  21,9  57,0  1,4742          NaN          NaN  \n",
       "2  35,5  19,1  1,0888          NaN          NaN  \n",
       "3  11,0  64,2  0,8398          NaN          NaN  \n",
       "4  19,9  51,3  1,1803          NaN          NaN  "
      ]
     },
     "execution_count": 6,
     "metadata": {},
     "output_type": "execute_result"
    }
   ],
   "source": [
    "train.head()"
   ]
  },
  {
   "cell_type": "markdown",
   "metadata": {},
   "source": [
    "### Kolmogorov–Smirnov test"
   ]
  },
  {
   "cell_type": "code",
   "execution_count": 9,
   "metadata": {},
   "outputs": [
    {
     "data": {
      "text/plain": [
       "KstestResult(statistic=np.float64(0.0190625), pvalue=np.float64(0.9721940612395358), statistic_location=np.float64(72.0), statistic_sign=np.int8(-1))"
      ]
     },
     "execution_count": 9,
     "metadata": {},
     "output_type": "execute_result"
    }
   ],
   "source": [
    "ksm1 = scipy.stats.ks_2samp(train['NO2(GT)'], test1['NO2(GT)'])\n",
    "ksm1"
   ]
  },
  {
   "cell_type": "code",
   "execution_count": 10,
   "metadata": {},
   "outputs": [
    {
     "data": {
      "text/plain": [
       "KstestResult(statistic=np.float64(0.4075), pvalue=np.float64(7.2019977111245e-96), statistic_location=np.float64(108.0), statistic_sign=np.int8(1))"
      ]
     },
     "execution_count": 10,
     "metadata": {},
     "output_type": "execute_result"
    }
   ],
   "source": [
    "ksm2 = scipy.stats.ks_2samp(train['NO2(GT)'], test2['NO2(GT)'])\n",
    "ksm2"
   ]
  },
  {
   "cell_type": "code",
   "execution_count": null,
   "metadata": {},
   "outputs": [],
   "source": []
  }
 ],
 "metadata": {
  "kernelspec": {
   "display_name": "Python 3",
   "language": "python",
   "name": "python3"
  },
  "language_info": {
   "codemirror_mode": {
    "name": "ipython",
    "version": 3
   },
   "file_extension": ".py",
   "mimetype": "text/x-python",
   "name": "python",
   "nbconvert_exporter": "python",
   "pygments_lexer": "ipython3",
   "version": "3.13.2"
  }
 },
 "nbformat": 4,
 "nbformat_minor": 2
}
